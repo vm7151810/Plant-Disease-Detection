{
  "cells": [
    {
      "cell_type": "code",
      "execution_count": null,
      "id": "BtUYGuzuZSoa",
      "metadata": {
        "colab": {
          "base_uri": "https://localhost:8080/"
        },
        "id": "BtUYGuzuZSoa",
        "outputId": "225fdaac-a98e-4a46-c4e1-4a147a2dfc8d"
      },
      "outputs": [],
      "source": [
        "#import the dataset\n",
        "!kaggle datasets download -d vipoooool/new-plant-diseases-dataset\n",
        "!unzip new-plant-diseases-dataset.zip"
      ]
    },
    {
      "cell_type": "code",
      "execution_count": null,
      "id": "7bada62c-ff2d-4d58-b221-9799e92b5eb3",
      "metadata": {
        "collapsed": true,
        "id": "7bada62c-ff2d-4d58-b221-9799e92b5eb3"
      },
      "outputs": [],
      "source": [
        "#install the required dependencies\n",
        "!pip install evaluate\n",
        "!pip install accelerate -U\n",
        "!pip install datasets evaluate matplotlib\n",
        "!pip install torch torchvision transformers"
      ]
    },
    {
      "cell_type": "code",
      "execution_count": null,
      "id": "12f569ab-448f-4277-b8a2-c0798f8949ef",
      "metadata": {
        "id": "12f569ab-448f-4277-b8a2-c0798f8949ef"
      },
      "outputs": [],
      "source": [
        "#import the necessary modules\n",
        "import PIL\n",
        "import torch\n",
        "import random\n",
        "import evaluate\n",
        "import warnings\n",
        "import numpy as np\n",
        "import matplotlib.pyplot as plt\n",
        "from datasets import load_dataset\n",
        "from transformers import AutoImageProcessor\n",
        "from datasets import load_metric,list_metrics\n",
        "from datasets import load_dataset,concatenate_datasets\n",
        "from transformers import AutoModelForImageClassification, TrainingArguments, Trainer\n",
        "from torchvision.transforms import (\n",
        "    CenterCrop,\n",
        "    Compose,\n",
        "    Normalize,\n",
        "    RandomHorizontalFlip,\n",
        "    RandomVerticalFlip,\n",
        "    GaussianBlur,\n",
        "    RandomResizedCrop,\n",
        "    Resize,\n",
        "    ToTensor,\n",
        ")\n",
        "warnings.filterwarnings('ignore')"
      ]
    },
    {
      "cell_type": "code",
      "execution_count": null,
      "id": "dfaf352e-700b-4bb4-885c-6b743b74b02c",
      "metadata": {
        "collapsed": true,
        "id": "dfaf352e-700b-4bb4-885c-6b743b74b02c"
      },
      "outputs": [],
      "source": [
        "#load the dataset\n",
        "train_dir = '/content/New Plant Diseases Dataset(Augmented)/New Plant Diseases Dataset(Augmented)/train'\n",
        "val_dir = '/content/New Plant Diseases Dataset(Augmented)/New Plant Diseases Dataset(Augmented)/valid'\n",
        "\n",
        "dataset_t = load_dataset(\"imagefolder\", data_dir=train_dir,drop_labels=False)\n",
        "dataset_v = load_dataset(\"imagefolder\", data_dir=val_dir,drop_labels=False)"
      ]
    },
    {
      "cell_type": "code",
      "execution_count": null,
      "id": "28e79bc7-7dd3-4487-8e2e-46bd6eb86980",
      "metadata": {
        "collapsed": true,
        "id": "28e79bc7-7dd3-4487-8e2e-46bd6eb86980"
      },
      "outputs": [],
      "source": [
        "metrics_list = list_metrics()\n",
        "metric = load_metric(\"accuracy\") #load the accuracy metric from the datset module"
      ]
    },
    {
      "cell_type": "code",
      "execution_count": null,
      "id": "eee69be0-a74c-46ca-8b31-e08e038c2035",
      "metadata": {
        "id": "eee69be0-a74c-46ca-8b31-e08e038c2035"
      },
      "outputs": [],
      "source": [
        "#mapping the labels to ID(integer)\n",
        "labels = dataset_t[\"train\"].features[\"label\"].names\n",
        "label2id, id2label = dict(), dict()\n",
        "for i, label in enumerate(labels):\n",
        "    label2id[label] = i\n",
        "    id2label[i] = label\n",
        "\n",
        "labels = dataset_v[\"train\"].features[\"label\"].names\n",
        "label2id, id2label = dict(), dict()\n",
        "for i, label in enumerate(labels):\n",
        "    label2id[label] = i\n",
        "    id2label[i] = label\n",
        "\n",
        "#print(len(dataset_t[\"train\"]['label']))\n",
        "#print(len(dataset_v[\"train\"]['label']))"
      ]
    },
    {
      "cell_type": "code",
      "execution_count": null,
      "id": "635b360c-262b-4449-a1f9-6ff440690035",
      "metadata": {
        "collapsed": true,
        "id": "635b360c-262b-4449-a1f9-6ff440690035"
      },
      "outputs": [],
      "source": [
        "model_checkpoint = \"google/vit-base-patch16-224-in21k\" #using ViT, a pre-trained model, trained on ImageNet-21k dataset\n",
        "image_processor  = AutoImageProcessor.from_pretrained(model_checkpoint) # config for preprocessing images"
      ]
    },
    {
      "cell_type": "code",
      "execution_count": null,
      "id": "0ff2ed4c-f480-4237-9629-a3a72c9d200d",
      "metadata": {
        "id": "0ff2ed4c-f480-4237-9629-a3a72c9d200d"
      },
      "outputs": [],
      "source": [
        "normalize = Normalize(mean=image_processor.image_mean, std=image_processor.image_std)\n",
        "if \"height\" in image_processor.size:\n",
        "    size = (image_processor.size[\"height\"], image_processor.size[\"width\"])\n",
        "    crop_size = size\n",
        "    max_size = None\n",
        "elif \"shortest_edge\" in image_processor.size:\n",
        "    size = image_processor.size[\"shortest_edge\"]\n",
        "    crop_size = (size, size)\n",
        "    max_size = image_processor.size.get(\"longest_edge\")\n",
        "\n",
        "train_transforms = Compose(\n",
        "        [\n",
        "            RandomResizedCrop(crop_size),\n",
        "            RandomHorizontalFlip(),\n",
        "            RandomVerticalFlip(),\n",
        "            GaussianBlur(kernel_size=(5, 9), sigma=(0.1, 5.)),\n",
        "            ToTensor(),\n",
        "            normalize,\n",
        "        ]\n",
        "    )\n",
        "train_transforms_without_tensor = Compose(\n",
        "        [\n",
        "            RandomResizedCrop(crop_size),\n",
        "            RandomHorizontalFlip(),\n",
        "            RandomVerticalFlip(),\n",
        "            GaussianBlur(kernel_size=(5, 9), sigma=(0.1, 5.)),\n",
        "        ]\n",
        "    )\n",
        "train_transforms_keep_original = Compose(\n",
        "        [\n",
        "            Resize(crop_size),\n",
        "            ToTensor(),\n",
        "            normalize,\n",
        "        ]\n",
        "    )\n",
        "train_transforms_keep_original_without_tensor = Compose(\n",
        "        [\n",
        "            Resize(crop_size),\n",
        "        ]\n",
        "    )\n",
        "val_transforms = Compose(\n",
        "        [\n",
        "            Resize(size),\n",
        "            CenterCrop(crop_size),\n",
        "            ToTensor(),\n",
        "            normalize,\n",
        "        ]\n",
        "    )\n",
        "\n",
        "def preprocess_train(example_batch):\n",
        "    example_batch[\"pixel_values\"] = [\n",
        "        train_transforms(image.convert(\"RGB\")) for image in example_batch[\"image\"]\n",
        "    ]\n",
        "    example_batch[\"image_transform\"] = [\n",
        "        train_transforms_without_tensor(image.convert(\"RGB\")) for image in example_batch[\"image\"]\n",
        "    ]\n",
        "    return example_batch\n",
        "\n",
        "def preprocess_original(example_batch):\n",
        "    example_batch[\"pixel_values\"] = [\n",
        "        train_transforms_keep_original(image.convert(\"RGB\")) for image in example_batch[\"image\"]\n",
        "    ]\n",
        "    example_batch[\"image_transform\"] = [\n",
        "        train_transforms_keep_original_without_tensor(image.convert(\"RGB\")) for image in example_batch[\"image\"]\n",
        "    ]\n",
        "    return example_batch\n",
        "\n",
        "def preprocess_val(example_batch):\n",
        "    example_batch[\"pixel_values\"] = [val_transforms(image.convert(\"RGB\")) for image in example_batch[\"image\"]]\n",
        "    return example_batch"
      ]
    },
    {
      "cell_type": "code",
      "execution_count": null,
      "id": "48163909-0045-47ae-8786-49441b9e29a1",
      "metadata": {
        "id": "48163909-0045-47ae-8786-49441b9e29a1"
      },
      "outputs": [],
      "source": [
        "train_ds = dataset_t[\"train\"]\n",
        "val_ds = dataset_v[\"train\"]"
      ]
    },
    {
      "cell_type": "code",
      "execution_count": null,
      "id": "bc7b9faf-5786-47fa-a573-3f2833e26f52",
      "metadata": {
        "collapsed": true,
        "id": "bc7b9faf-5786-47fa-a573-3f2833e26f52"
      },
      "outputs": [],
      "source": [
        "def showDistribution():\n",
        "    distribution = evaluate.load(\"label_distribution\")\n",
        "    fig, ax = plt.subplots(1, 2, sharex=True, sharey=True, figsize=(15,5))\n",
        "\n",
        "    ax[0].set_title(\"Training dataset \" + str(len(train_ds)))\n",
        "    results = distribution.compute(data=train_ds['label'])\n",
        "    ax[0].bar(results['label_distribution']['labels'], results['label_distribution']['fractions'])\n",
        "\n",
        "    ax[1].set_title(\"Validation dataset \" + str(len(val_ds)))\n",
        "    results = distribution.compute(data=val_ds['label'])\n",
        "    ax[1].bar(results['label_distribution']['labels'], results['label_distribution']['fractions'])\n",
        "    plt.show()\n",
        "showDistribution()"
      ]
    },
    {
      "cell_type": "code",
      "execution_count": null,
      "id": "77bab970-48bc-48a8-bcb5-3ca924d026c7",
      "metadata": {
        "id": "77bab970-48bc-48a8-bcb5-3ca924d026c7"
      },
      "outputs": [],
      "source": [
        "# we will set the transformation method to the list.\n",
        "train_ds.set_transform(preprocess_train)\n",
        "val_ds.set_transform(preprocess_val)"
      ]
    },
    {
      "cell_type": "code",
      "execution_count": null,
      "id": "74208f35-af2c-48ac-9c6c-aa0a9dbe3317",
      "metadata": {
        "id": "74208f35-af2c-48ac-9c6c-aa0a9dbe3317"
      },
      "outputs": [],
      "source": [
        "num = int(random.random() * len(dataset_t[\"train\"]['label']))\n",
        "#print(num)\n",
        "def showimages(dataset,numberofimg):\n",
        "    sorted_ds = dataset.sort('label')\n",
        "    samples = sorted_ds.select(range(num, num+numberofimg))\n",
        "    pointer = 0\n",
        "    fig, ax = plt.subplots(5, 3, sharex=True, sharey=True, figsize=(10,6))\n",
        "    for i in range(5):\n",
        "        for j in range(3):\n",
        "            ax[i,j].imshow(samples[pointer]['image_transform'])\n",
        "            ax[i,j].set_title(f\"{labels[samples[pointer]['label']]}\")\n",
        "            ax[i,j].axis('off')\n",
        "            pointer+=1\n",
        "    plt.show()\n",
        "showimages(train_ds,15)"
      ]
    },
    {
      "cell_type": "code",
      "execution_count": null,
      "id": "50d2cfe1-e265-4e53-87fb-9588dd85eda3",
      "metadata": {
        "collapsed": true,
        "id": "50d2cfe1-e265-4e53-87fb-9588dd85eda3"
      },
      "outputs": [],
      "source": [
        "model = AutoModelForImageClassification.from_pretrained(\n",
        "    model_checkpoint,\n",
        "    label2id=label2id,\n",
        "    id2label=id2label, # aligning model's output to class labels in the dataset\n",
        "    ignore_mismatched_sizes = True, # provide this in case you're planning to fine-tune an already fine-tuned checkpoint\n",
        ")"
      ]
    },
    {
      "cell_type": "code",
      "execution_count": null,
      "id": "9d412bbb-fb7b-46e2-aea1-ac2b4afb17b5",
      "metadata": {
        "collapsed": true,
        "id": "9d412bbb-fb7b-46e2-aea1-ac2b4afb17b5"
      },
      "outputs": [],
      "source": [
        "# Use GPU if available\n",
        "device = torch.device(\"cuda\") if torch.cuda.is_available() else torch.device(\"cpu\")\n",
        "#print(device)\n",
        "model.to(device)\n"
      ]
    },
    {
      "cell_type": "code",
      "execution_count": null,
      "id": "898c5480-5fe3-4de4-9ac8-24ad6445c78f",
      "metadata": {
        "id": "898c5480-5fe3-4de4-9ac8-24ad6445c78f"
      },
      "outputs": [],
      "source": [
        "batch_size = 32\n",
        "args = TrainingArguments(\n",
        "    remove_unused_columns=False,\n",
        "    evaluation_strategy=\"epoch\", #evaluate at each epoch\n",
        "    save_strategy=\"epoch\",\n",
        "    learning_rate=2e-5,\n",
        "    per_device_train_batch_size=batch_size,\n",
        "    gradient_accumulation_steps=4, #gradients over 4 steps before updating the model's weights\n",
        "    per_device_eval_batch_size=batch_size,\n",
        "    num_train_epochs=20,\n",
        "    warmup_ratio=0.1, #fraction of total steps to use for learning rate warmup\n",
        "    logging_steps=10, #Logs training progress every 10 steps\n",
        "    load_best_model_at_end=True,\n",
        "    metric_for_best_model=\"accuracy\",\n",
        "    push_to_hub=False,\n",
        "    output_dir='./results', #Directory for saving files\n",
        "    resume_from_checkpoint=True,\n",
        "    overwrite_output_dir=True,\n",
        "    run_name=\"Disease_classification\", # to avoid warning\n",
        ")"
      ]
    },
    {
      "cell_type": "code",
      "execution_count": null,
      "id": "81ae1ef3-1aad-41f4-ab3b-2a7f1ca58965",
      "metadata": {
        "id": "81ae1ef3-1aad-41f4-ab3b-2a7f1ca58965"
      },
      "outputs": [],
      "source": [
        "# Computes accuracy on a batch of predictions made by a model\n",
        "def compute_metrics(eval_pred): # takes a Named Tuple as input\n",
        "    predictions = np.argmax(eval_pred.predictions, axis=1) # predictions are the logits of the model as Numpy arrays,\n",
        "    return metric.compute(predictions=predictions, references=eval_pred.label_ids) # label_ids are the ground-truth labels as Numpy arrays."
      ]
    },
    {
      "cell_type": "code",
      "execution_count": null,
      "id": "6b785b03-5fbf-4cda-a4d4-3882688f3982",
      "metadata": {
        "id": "6b785b03-5fbf-4cda-a4d4-3882688f3982"
      },
      "outputs": [],
      "source": [
        "# organizing data into a format suitable for training\n",
        "def collate_fn(examples):\n",
        "    pixel_values = torch.stack([example[\"pixel_values\"] for example in examples])\n",
        "    labels = torch.tensor([example[\"label\"] for example in examples])\n",
        "    return {\"pixel_values\": pixel_values, \"labels\": labels}"
      ]
    },
    {
      "cell_type": "code",
      "execution_count": null,
      "id": "4a8df3cc-5e5e-4ec9-b8f3-437ea9e74695",
      "metadata": {
        "collapsed": true,
        "id": "4a8df3cc-5e5e-4ec9-b8f3-437ea9e74695"
      },
      "outputs": [],
      "source": [
        "# Setting the trainer\n",
        "trainer = Trainer(\n",
        "    model,\n",
        "    args,\n",
        "    train_dataset=train_ds,\n",
        "    eval_dataset=val_ds,\n",
        "    tokenizer=image_processor,\n",
        "    compute_metrics=compute_metrics,\n",
        "    data_collator=collate_fn\n",
        ")"
      ]
    },
    {
      "cell_type": "code",
      "execution_count": null,
      "id": "7KD49BampS2p",
      "metadata": {
        "id": "7KD49BampS2p"
      },
      "outputs": [],
      "source": [
        "train_results = trainer.train() # Start the training"
      ]
    },
    {
      "cell_type": "code",
      "execution_count": null,
      "id": "e6244cfc-918f-4855-a363-307bd798fc61",
      "metadata": {
        "colab": {
          "background_save": true
        },
        "collapsed": true,
        "id": "e6244cfc-918f-4855-a363-307bd798fc61"
      },
      "outputs": [],
      "source": [
        "metrics = trainer.evaluate()\n",
        "trainer.log_metrics(\"eval\", metrics) # Logs the metrics\n",
        "trainer.save_metrics(\"eval\", metrics) # Saves the metrics"
      ]
    },
    {
      "cell_type": "code",
      "execution_count": null,
      "id": "N1jqGNNLqjt3",
      "metadata": {
        "colab": {
          "background_save": true
        },
        "id": "N1jqGNNLqjt3"
      },
      "outputs": [],
      "source": [
        "model.eval() #to set dropout and batch normalization layers to evaluation mode\n",
        "\n",
        "test_dir = '/content/test/test/'\n",
        "dataset_t = load_dataset(\"imagefolder\", data_dir=test_dir,drop_labels=False)\n",
        "\n",
        "labels = dataset_test[\"train\"].features[\"label\"].names\n",
        "label2id, id2label = dict(), dict()\n",
        "for i, label in enumerate(labels):\n",
        "    label2id[label] = i\n",
        "    id2label[i] = label\n",
        "test_ds = dataset_test[\"train\"]\n",
        "\n",
        "data = iter(test_ds)\n",
        "images, labels = next(data)\n",
        "outputs = model(images)\n",
        "\n",
        "correct = 0\n",
        "total = 0\n",
        "# for testing, no need to calculate the gradients for outputs\n",
        "with torch.no_grad():\n",
        "    for data in test_ds:\n",
        "        images, labels = data\n",
        "        outputs = model(images)\n",
        "        # the class with the highest confidence is the prediction\n",
        "        _, predicted = torch.max(outputs.data, 1)\n",
        "        total += labels.size(0)\n",
        "        correct += (predicted == labels).sum().item()\n",
        "\n",
        "print(f'Accuracy : {100 * correct // total} %')\n"
      ]
    }
  ],
  "metadata": {
    "accelerator": "GPU",
    "colab": {
      "gpuType": "T4",
      "provenance": []
    },
    "kernelspec": {
      "display_name": "conda_pytorch_p310",
      "language": "python",
      "name": "conda_pytorch_p310"
    },
    "language_info": {
      "codemirror_mode": {
        "name": "ipython",
        "version": 3
      },
      "file_extension": ".py",
      "mimetype": "text/x-python",
      "name": "python",
      "nbconvert_exporter": "python",
      "pygments_lexer": "ipython3",
      "version": "3.10.14"
    }
  },
  "nbformat": 4,
  "nbformat_minor": 5
}
